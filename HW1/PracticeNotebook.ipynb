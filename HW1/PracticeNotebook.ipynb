
{
 "cells": [
  {
   "cell_type": "markdown",
   "metadata": {},
   "source": [
    "# Data Visualization Practice Notebook\n",
    "\n",
    "This notebook is prepared for practice with different types of datasets:\n",
    "- Survey data (categorical, numerical, missing values)\n",
    "- Sales data (time series)\n",
    "- Titanic-style dataset (messy, preprocessing)\n",
    "- Regression dataset (linear relationship)\n",
    "\n",
    "---"
   ]
  },
  {
   "cell_type": "code",
   "execution_count": null,
   "metadata": {},
   "outputs": [],
   "source": [
    "import pandas as pd\n",
    "import matplotlib.pyplot as plt\n",
    "import seaborn as sns\n",
    "from sklearn.preprocessing import MinMaxScaler, StandardScaler\n",
    "\n",
    "survey = pd.read_csv('SurveyData.csv')\n",
    "sales = pd.read_csv('SalesData.csv')\n",
    "titanic = pd.read_csv('TitanicData.csv')\n",
    "regression = pd.read_csv('RegressionData.csv')\n",
    "\n",
    "survey.head()"
   ]
  },
  {
   "cell_type": "markdown",
   "metadata": {},
   "source": [
    "## Task 1: Explore Survey Data\n",
    "- Inspect data types\n",
    "- Handle missing values (e.g., fill StudyHours with mean)\n",
    "- One-hot encode Country\n",
    "- Plot Satisfaction distribution"
   ]
  },
  {
   "cell_type": "markdown",
   "metadata": {},
   "source": [
    "## Task 2: Work with Sales Data\n",
    "- Parse Date column as datetime\n",
    "- Plot time series of Sales\n",
    "- Compute 2-day moving average"
   ]
  },
  {
   "cell_type": "markdown",
   "metadata": {},
   "source": [
    "## Task 3: Titanic-style Data\n",
    "- Check for missing values\n",
    "- Fill missing Age with median\n",
    "- Normalize Fare\n",
    "- Encode Sex using one-hot encoding\n",
    "- Plot Age vs. Fare colored by Survived"
   ]
  },
  {
   "cell_type": "markdown",
   "metadata": {},
   "source": [
    "## Task 4: Regression Data\n",
    "- Fit a linear regression\n",
    "- Plot scatter + regression line\n",
    "- Interpret slope and intercept"
   ]
  }
 ],
 "metadata": {
  "kernelspec": {
   "display_name": "Python 3",
   "language": "python",
   "name": "python3"
  },
  "language_info": {
   "name": "python",
   "version": "3.9"
  }
 },
 "nbformat": 4,
 "nbformat_minor": 5
}
