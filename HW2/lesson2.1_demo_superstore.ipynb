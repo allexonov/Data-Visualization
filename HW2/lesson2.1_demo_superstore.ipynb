{
 "cells": [
  {
   "cell_type": "markdown",
   "id": "504df6c9",
   "metadata": {},
   "source": [
    "# Lesson 1 (Demo): Selecting a Chart Type with SuperStore Dataset"
   ]
  },
  {
   "cell_type": "markdown",
   "id": "402fc17f",
   "metadata": {},
   "source": [
    "\n",
    "We will practice selecting appropriate chart types using a real-world dataset: **SuperStore Sales**.\n",
    "\n",
    "Focus: **Categorical data** for comparisons, rankings, and proportions.\n",
    "\n",
    "Charts covered: Vertical bar, Horizontal bar, Grouped/Clustered bar, Stacked bar, 100% Stacked bar, Pie, Donut, Stacked Area, 100% Area, Treemap.\n",
    "\n",
    "**Dataset:** `superstore_dataset.csv`\n"
   ]
  },
  {
   "cell_type": "markdown",
   "id": "31b14d53",
   "metadata": {},
   "source": [
    "## Step 1: Load the Dataset"
   ]
  },
  {
   "cell_type": "code",
   "execution_count": null,
   "id": "a4d6e9c8",
   "metadata": {},
   "outputs": [],
   "source": [
    "\n",
    "import pandas as pd\n",
    "\n",
    "# Load dataset (upload to Colab or mount from Drive)\n",
    "df = pd.read_csv(\"superstore_dataset.csv\")\n",
    "df.head()\n"
   ]
  },
  {
   "cell_type": "markdown",
   "id": "8457bd98",
   "metadata": {},
   "source": [
    "## Step 2: Explore the Data"
   ]
  },
  {
   "cell_type": "code",
   "execution_count": null,
   "id": "9e04b757",
   "metadata": {},
   "outputs": [],
   "source": [
    "\n",
    "df.info()\n",
    "df.describe(include=\"all\").T.head(10)\n"
   ]
  },
  {
   "cell_type": "markdown",
   "id": "bfd6099f",
   "metadata": {},
   "source": [
    "## Step 3: Preprocess Data"
   ]
  },
  {
   "cell_type": "code",
   "execution_count": null,
   "id": "9ef05174",
   "metadata": {},
   "outputs": [],
   "source": [
    "\n",
    "# Sales by Category\n",
    "category_sales = df.groupby(\"Category\")[\"Sales\"].sum().reset_index().sort_values(\"Sales\", ascending=False)\n",
    "\n",
    "# Sales by Category & Region\n",
    "cat_region_sales = df.groupby([\"Category\", \"Region\"])[\"Sales\"].sum().reset_index()\n",
    "\n",
    "# Top 8 Subcategories by Sales\n",
    "subcat_sales = df.groupby(\"Sub-Category\")[\"Sales\"].sum().reset_index().sort_values(\"Sales\", ascending=False).head(8)\n",
    "\n",
    "category_sales, cat_region_sales.head(), subcat_sales\n"
   ]
  },
  {
   "cell_type": "markdown",
   "id": "d7334f98",
   "metadata": {},
   "source": [
    "## Step 4: Visualizations"
   ]
  },
  {
   "cell_type": "markdown",
   "id": "a03681cc",
   "metadata": {},
   "source": [
    "### 4.1 Vertical & Horizontal Bar Charts"
   ]
  },
  {
   "cell_type": "code",
   "execution_count": null,
   "id": "59540bd3",
   "metadata": {},
   "outputs": [],
   "source": [
    "\n",
    "import matplotlib.pyplot as plt\n",
    "import seaborn as sns\n",
    "\n",
    "plt.figure(figsize=(6,4))\n",
    "sns.barplot(data=category_sales, x=\"Category\", y=\"Sales\")\n",
    "plt.title(\"Sales by Category (Vertical Bar)\")\n",
    "plt.show()\n",
    "\n",
    "plt.figure(figsize=(6,4))\n",
    "sns.barplot(data=category_sales, y=\"Category\", x=\"Sales\")\n",
    "plt.title(\"Sales by Category (Horizontal Bar)\")\n",
    "plt.show()\n"
   ]
  },
  {
   "cell_type": "markdown",
   "id": "6b5aaf87",
   "metadata": {},
   "source": [
    "### 4.2 Grouped / Clustered Bar Chart"
   ]
  },
  {
   "cell_type": "code",
   "execution_count": null,
   "id": "c22b1eee",
   "metadata": {},
   "outputs": [],
   "source": [
    "\n",
    "plt.figure(figsize=(8,5))\n",
    "sns.barplot(data=cat_region_sales, x=\"Category\", y=\"Sales\", hue=\"Region\")\n",
    "plt.title(\"Sales by Category & Region (Grouped Bar)\")\n",
    "plt.show()\n"
   ]
  },
  {
   "cell_type": "markdown",
   "id": "df74266c",
   "metadata": {},
   "source": [
    "### 4.3 Stacked & 100% Stacked Bar Charts"
   ]
  },
  {
   "cell_type": "code",
   "execution_count": null,
   "id": "75f54ff4",
   "metadata": {},
   "outputs": [],
   "source": [
    "\n",
    "pivot_data = cat_region_sales.pivot(index=\"Category\", columns=\"Region\", values=\"Sales\")\n",
    "\n",
    "pivot_data.plot(kind=\"bar\", stacked=True, figsize=(8,5), title=\"Sales by Category & Region (Stacked Bar)\")\n",
    "plt.show()\n",
    "\n",
    "(pivot_data.div(pivot_data.sum(axis=1), axis=0)).plot(kind=\"bar\", stacked=True, figsize=(8,5), title=\"Sales by Category & Region (100% Stacked Bar)\")\n",
    "plt.show()\n"
   ]
  },
  {
   "cell_type": "markdown",
   "id": "0930c06c",
   "metadata": {},
   "source": [
    "### 4.4 Pie & Donut Charts"
   ]
  },
  {
   "cell_type": "code",
   "execution_count": null,
   "id": "41fac25c",
   "metadata": {},
   "outputs": [],
   "source": [
    "\n",
    "plt.figure(figsize=(5,5))\n",
    "plt.pie(category_sales[\"Sales\"], labels=category_sales[\"Category\"], autopct=\"%1.1f%%\")\n",
    "plt.title(\"Sales by Category (Pie Chart)\")\n",
    "plt.show()\n",
    "\n",
    "plt.figure(figsize=(5,5))\n",
    "plt.pie(category_sales[\"Sales\"], labels=category_sales[\"Category\"], wedgeprops=dict(width=0.4), autopct=\"%1.1f%%\")\n",
    "plt.title(\"Sales by Category (Donut Chart)\")\n",
    "plt.show()\n"
   ]
  },
  {
   "cell_type": "markdown",
   "id": "0278fbed",
   "metadata": {},
   "source": [
    "### 4.5 Stacked & 100% Area Charts"
   ]
  },
  {
   "cell_type": "code",
   "execution_count": null,
   "id": "d0e51b8a",
   "metadata": {},
   "outputs": [],
   "source": [
    "\n",
    "pivot_data.plot(kind=\"area\", figsize=(8,5), title=\"Sales by Category & Region (Stacked Area)\")\n",
    "plt.show()\n",
    "\n",
    "(pivot_data.div(pivot_data.sum(axis=1), axis=0)).plot(kind=\"area\", figsize=(8,5), title=\"Sales by Category & Region (100% Stacked Area)\")\n",
    "plt.show()\n"
   ]
  },
  {
   "cell_type": "markdown",
   "id": "8d80e780",
   "metadata": {},
   "source": [
    "### 4.6 Treemap"
   ]
  },
  {
   "cell_type": "code",
   "execution_count": null,
   "id": "3a769f7c",
   "metadata": {},
   "outputs": [],
   "source": [
    "\n",
    "!pip install squarify\n",
    "import squarify\n",
    "\n",
    "plt.figure(figsize=(8,6))\n",
    "squarify.plot(sizes=subcat_sales[\"Sales\"], label=subcat_sales[\"Sub-Category\"], alpha=0.8)\n",
    "plt.title(\"Top 8 Subcategories by Sales (Treemap)\")\n",
    "plt.axis(\"off\")\n",
    "plt.show()\n"
   ]
  },
  {
   "cell_type": "markdown",
   "id": "63b80d58",
   "metadata": {},
   "source": [
    "## Step 5: Wrap-Up & Discussion"
   ]
  },
  {
   "cell_type": "markdown",
   "id": "0653643d",
   "metadata": {},
   "source": [
    "\n",
    "- **Bar Charts:** Best for comparisons & rankings  \n",
    "- **Stacked Charts:** Show part-to-whole within categories  \n",
    "- **Pie/Donut:** Simple proportions (avoid too many slices)  \n",
    "- **Area Charts:** Show composition trends  \n",
    "- **Treemap:** Compact hierarchical proportions  \n",
    "\n",
    "👉 Which chart best communicates the insight with least cognitive load?\n"
   ]
  }
 ],
 "metadata": {},
 "nbformat": 4,
 "nbformat_minor": 5
}
