{
 "cells": [
  {
   "cell_type": "markdown",
   "id": "65a8df0a",
   "metadata": {},
   "source": [
    "# Lesson 1 (Homework): Selecting a Chart Type with SuperStore Dataset"
   ]
  },
  {
   "cell_type": "markdown",
   "id": "8a7fb849",
   "metadata": {},
   "source": [
    "\n",
    "This is your practice notebook. Fill in the missing parts (`# TODO`).  \n"
   ]
  },
  {
   "cell_type": "markdown",
   "id": "b0135777",
   "metadata": {},
   "source": [
    "## Step 1: Load the Dataset"
   ]
  },
  {
   "cell_type": "code",
   "execution_count": null,
   "id": "0fa626ca",
   "metadata": {},
   "outputs": [],
   "source": [
    "\n",
    "import pandas as pd\n",
    "\n",
    "# TODO: load the dataset \"superstore_dataset.csv\"\n",
    "df = pd.read_csv(\"superstore_dataset.csv\")\n",
    "\n",
    "df.head()\n"
   ]
  },
  {
   "cell_type": "markdown",
   "id": "7fefa68e",
   "metadata": {},
   "source": [
    "## Step 2: Explore the Data"
   ]
  },
  {
   "cell_type": "code",
   "execution_count": null,
   "id": "c6bd77da",
   "metadata": {},
   "outputs": [],
   "source": [
    "\n",
    "# TODO: check dataset info and statistics\n",
    "df.info()\n",
    "df.describe(include=\"all\").T.head(10)\n"
   ]
  },
  {
   "cell_type": "markdown",
   "id": "49bb1083",
   "metadata": {},
   "source": [
    "## Step 3: Preprocess Data"
   ]
  },
  {
   "cell_type": "code",
   "execution_count": null,
   "id": "e7baaa51",
   "metadata": {},
   "outputs": [],
   "source": [
    "\n",
    "# TODO: aggregate sales by Category\n",
    "category_sales = df.groupby(\"???\")[\"???\"].sum().reset_index().sort_values(\"???\", ascending=False)\n",
    "\n",
    "# TODO: aggregate sales by Category & Region\n",
    "cat_region_sales = df.groupby([\"???\",\"???\"])[\"???\"].sum().reset_index()\n",
    "\n",
    "# TODO: top 8 Subcategories by Sales\n",
    "subcat_sales = df.groupby(\"???\")[\"???\"].sum().reset_index().sort_values(\"???\", ascending=False).head(8)\n",
    "\n",
    "category_sales, cat_region_sales.head(), subcat_sales\n"
   ]
  },
  {
   "cell_type": "markdown",
   "id": "91052c5e",
   "metadata": {},
   "source": [
    "## Step 4: Visualizations"
   ]
  },
  {
   "cell_type": "markdown",
   "id": "3af0ed43",
   "metadata": {},
   "source": [
    "### 4.1 Vertical & Horizontal Bar Charts"
   ]
  },
  {
   "cell_type": "code",
   "execution_count": null,
   "id": "6fc90dee",
   "metadata": {},
   "outputs": [],
   "source": [
    "\n",
    "import matplotlib.pyplot as plt\n",
    "import seaborn as sns\n",
    "\n",
    "# TODO: vertical barplot sales by category\n",
    "\n",
    "# TODO: horizontal barplot sales by category\n"
   ]
  },
  {
   "cell_type": "markdown",
   "id": "897d001e",
   "metadata": {},
   "source": [
    "### 4.2 Grouped / Clustered Bar Chart"
   ]
  },
  {
   "cell_type": "code",
   "execution_count": null,
   "id": "991c4216",
   "metadata": {},
   "outputs": [],
   "source": [
    "\n",
    "# TODO: grouped barplot sales by category & region\n"
   ]
  },
  {
   "cell_type": "markdown",
   "id": "9c6f768d",
   "metadata": {},
   "source": [
    "### 4.3 Stacked & 100% Stacked Bar Charts"
   ]
  },
  {
   "cell_type": "code",
   "execution_count": null,
   "id": "90269ff3",
   "metadata": {},
   "outputs": [],
   "source": [
    "\n",
    "# TODO: pivot and create stacked + 100% stacked bar charts\n"
   ]
  },
  {
   "cell_type": "markdown",
   "id": "d923ea9b",
   "metadata": {},
   "source": [
    "### 4.4 Pie & Donut Charts"
   ]
  },
  {
   "cell_type": "code",
   "execution_count": null,
   "id": "36301bc4",
   "metadata": {},
   "outputs": [],
   "source": [
    "\n",
    "# TODO: pie chart sales by category\n",
    "\n",
    "# TODO: donut chart sales by category\n"
   ]
  },
  {
   "cell_type": "markdown",
   "id": "a06e0657",
   "metadata": {},
   "source": [
    "### 4.5 Stacked & 100% Area Charts"
   ]
  },
  {
   "cell_type": "code",
   "execution_count": null,
   "id": "acb9eff4",
   "metadata": {},
   "outputs": [],
   "source": [
    "\n",
    "# TODO: stacked area chart sales by category & region\n",
    "\n",
    "# TODO: 100% stacked area chart\n"
   ]
  },
  {
   "cell_type": "markdown",
   "id": "eee94d9b",
   "metadata": {},
   "source": [
    "### 4.6 Treemap"
   ]
  },
  {
   "cell_type": "code",
   "execution_count": null,
   "id": "fdc925f8",
   "metadata": {},
   "outputs": [],
   "source": [
    "\n",
    "# TODO: install squarify and create treemap of top 8 subcategories\n"
   ]
  },
  {
   "cell_type": "markdown",
   "id": "8fef7ab1",
   "metadata": {},
   "source": [
    "## Step 5: Wrap-Up & Extra Tasks"
   ]
  },
  {
   "cell_type": "markdown",
   "id": "d7537ab0",
   "metadata": {},
   "source": [
    "\n",
    "- Try using **Profit** instead of Sales  \n",
    "- Plot bottom 5 subcategories instead of top 8  \n",
    "- Replace bar chart with line chart → what happens?  \n"
   ]
  }
 ],
 "metadata": {},
 "nbformat": 4,
 "nbformat_minor": 5
}
